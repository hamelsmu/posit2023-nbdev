{
 "cells": [
  {
   "cell_type": "markdown",
   "id": "1b351dbb-57e1-4e4d-9e3c-fe26b802bb6d",
   "metadata": {},
   "source": [
    "# Deck\n",
    "> Deck of Cards"
   ]
  },
  {
   "cell_type": "code",
   "execution_count": null,
   "id": "c34a3d35-3790-4231-b7b5-2b4fa94c988e",
   "metadata": {},
   "outputs": [],
   "source": [
    "#|default_exp deck"
   ]
  },
  {
   "cell_type": "code",
   "execution_count": null,
   "id": "127a90c1-9571-46a7-97bb-aeb430d257bc",
   "metadata": {},
   "outputs": [],
   "source": [
    "#| export\n",
    "import random\n",
    "from fastcore.utils import patch\n",
    "from posit2023_nbdev.card import Card"
   ]
  },
  {
   "cell_type": "markdown",
   "id": "55317a1f-ba8d-46a5-8737-0295479a1b48",
   "metadata": {},
   "source": [
    "Let's define a deck of cards:"
   ]
  },
  {
   "cell_type": "code",
   "execution_count": null,
   "id": "cc7a7b5b-ade9-4897-a96d-482ae642d319",
   "metadata": {},
   "outputs": [],
   "source": [
    "#| export\n",
    "class Deck:\n",
    "    \"A deck of 52 cards, not including jokers\"\n",
    "    def __init__(self): \n",
    "        self.cards = [Card(s, r) for s in range(4) for r in range(1, 14)]\n",
    "\n",
    "    def __len__(self): \n",
    "        return len(self.cards)\n",
    "\n",
    "    def __str__(self): \n",
    "        return '; '.join(map(str, self.cards))\n",
    "    \n",
    "    def __contains__(self, card): \n",
    "        return card in self.cards\n",
    "    \n",
    "    __repr__=__str__\n",
    "\n",
    "    def shuffle(self):\n",
    "        \"Shuffles the cards in this deck\"\n",
    "        random.shuffle(self.cards)"
   ]
  },
  {
   "cell_type": "markdown",
   "id": "fbf617f7-4689-4a05-a4df-7b356a739d52",
   "metadata": {},
   "source": [
    "A deck will contain all 52 cards, which can be visulalized like so:"
   ]
  },
  {
   "cell_type": "code",
   "execution_count": null,
   "id": "939c35d9-041a-4cec-bdaa-0fdd494ec921",
   "metadata": {},
   "outputs": [
    {
     "data": {
      "text/plain": [
       "A♣️; 2♣️; 3♣️; 4♣️; 5♣️; 6♣️; 7♣️; 8♣️; 9♣️; 10♣️; J♣️; Q♣️; K♣️; A♦️; 2♦️; 3♦️; 4♦️; 5♦️; 6♦️; 7♦️; 8♦️; 9♦️; 10♦️; J♦️; Q♦️; K♦️; A❤️; 2❤️; 3❤️; 4❤️; 5❤️; 6❤️; 7❤️; 8❤️; 9❤️; 10❤️; J❤️; Q❤️; K❤️; A♠️; 2♠️; 3♠️; 4♠️; 5♠️; 6♠️; 7♠️; 8♠️; 9♠️; 10♠️; J♠️; Q♠️; K♠️"
      ]
     },
     "execution_count": null,
     "metadata": {},
     "output_type": "execute_result"
    }
   ],
   "source": [
    "deck = Deck()\n",
    "deck"
   ]
  },
  {
   "cell_type": "code",
   "execution_count": null,
   "id": "573cf85f-e252-47f2-8b97-f003aaa69772",
   "metadata": {},
   "outputs": [],
   "source": [
    "assert len(deck) == 52"
   ]
  },
  {
   "cell_type": "code",
   "execution_count": null,
   "id": "245e427b-8f76-4aa4-b675-1ed2628977a9",
   "metadata": {},
   "outputs": [],
   "source": [
    "#|export\n",
    "@patch\n",
    "def pop(self:Deck,\n",
    "        idx:int=-1):  # The index of the card to remove, defaulting to the last one\n",
    "    \"Remove one card from the deck\"\n",
    "    return self.cards.pop(idx)"
   ]
  },
  {
   "cell_type": "markdown",
   "id": "06901e23-dbd7-48e5-840f-a00b904cf4af",
   "metadata": {},
   "source": [
    "We can remove one card off the deck like so:"
   ]
  },
  {
   "cell_type": "code",
   "execution_count": null,
   "id": "04c2068a-4b0e-489e-90d1-e469c4d90cf6",
   "metadata": {},
   "outputs": [
    {
     "data": {
      "text/plain": [
       "K♠️"
      ]
     },
     "execution_count": null,
     "metadata": {},
     "output_type": "execute_result"
    }
   ],
   "source": [
    "deck.pop()"
   ]
  },
  {
   "cell_type": "code",
   "execution_count": null,
   "id": "3cdea616-df60-4325-89db-c67419840025",
   "metadata": {},
   "outputs": [],
   "source": [
    "assert len(deck) == 51"
   ]
  }
 ],
 "metadata": {
  "kernelspec": {
   "display_name": "python3",
   "language": "python",
   "name": "python3"
  }
 },
 "nbformat": 4,
 "nbformat_minor": 5
}
